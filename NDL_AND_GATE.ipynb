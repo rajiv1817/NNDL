{
  "nbformat": 4,
  "nbformat_minor": 0,
  "metadata": {
    "colab": {
      "provenance": [],
      "authorship_tag": "ABX9TyM0VrCHpf9pAnHcJs4SRoyl",
      "include_colab_link": true
    },
    "kernelspec": {
      "name": "python3",
      "display_name": "Python 3"
    },
    "language_info": {
      "name": "python"
    }
  },
  "cells": [
    {
      "cell_type": "markdown",
      "metadata": {
        "id": "view-in-github",
        "colab_type": "text"
      },
      "source": [
        "<a href=\"https://colab.research.google.com/github/rajiv1817/NNDL/blob/main/NDL_AND_GATE.ipynb\" target=\"_parent\"><img src=\"https://colab.research.google.com/assets/colab-badge.svg\" alt=\"Open In Colab\"/></a>"
      ]
    },
    {
      "cell_type": "markdown",
      "source": [
        "NNDL AND GATE SIMPLE PERCEPTRON"
      ],
      "metadata": {
        "id": "MHO6cdSEmsf7"
      }
    },
    {
      "cell_type": "code",
      "source": [
        "# Importing library\n",
        "import numpy as np\n",
        "\n"
      ],
      "metadata": {
        "id": "zEwNpoZ4mWw0"
      },
      "execution_count": 2,
      "outputs": []
    },
    {
      "cell_type": "code",
      "source": [
        "#Initializing variables for AND Gate\n",
        "X = np.asarray([[0,0],[0,1],[1,0],[1,1]])\n",
        "W = np.asarray([1,1])\n",
        "Wsum_Arr = np.dot(X,W)\n",
        "\n",
        "y_pred = np.asarray([0,0,0,0])\n",
        "\n"
      ],
      "metadata": {
        "id": "8gk-XtaZmb_S"
      },
      "execution_count": 3,
      "outputs": []
    },
    {
      "cell_type": "code",
      "source": [
        "# STEP Function\n",
        "def step(NW,n):\n",
        "  if (NW[n]>=1.5):\n",
        "    return 1\n",
        "  else:\n",
        "    return 0"
      ],
      "metadata": {
        "id": "DZgNG8UqmeYD"
      },
      "execution_count": 4,
      "outputs": []
    },
    {
      "cell_type": "code",
      "source": [
        "for i in range(X.shape[0]):\n",
        "  y_pred[i] = step(Wsum_Arr,i)\n",
        "\n",
        "print(y_pred) #Expected Output: [0,0,0,1]"
      ],
      "metadata": {
        "colab": {
          "base_uri": "https://localhost:8080/"
        },
        "id": "_lUY1AgemgPD",
        "outputId": "5839ad9b-be95-45e6-d406-75b2af30110a"
      },
      "execution_count": 5,
      "outputs": [
        {
          "output_type": "stream",
          "name": "stdout",
          "text": [
            "[0 0 0 1]\n"
          ]
        }
      ]
    },
    {
      "cell_type": "code",
      "source": [],
      "metadata": {
        "id": "WkgvEREEmiXD"
      },
      "execution_count": null,
      "outputs": []
    }
  ]
}