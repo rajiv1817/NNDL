{
  "nbformat": 4,
  "nbformat_minor": 0,
  "metadata": {
    "colab": {
      "provenance": [],
      "authorship_tag": "ABX9TyPbNs1ri4qixfd0fVqTaGlm",
      "include_colab_link": true
    },
    "kernelspec": {
      "name": "python3",
      "display_name": "Python 3"
    },
    "language_info": {
      "name": "python"
    }
  },
  "cells": [
    {
      "cell_type": "markdown",
      "metadata": {
        "id": "view-in-github",
        "colab_type": "text"
      },
      "source": [
        "<a href=\"https://colab.research.google.com/github/rajiv1817/NNDL/blob/main/NNDL_Class_Restricted_Boltzmann_pynb.ipynb\" target=\"_parent\"><img src=\"https://colab.research.google.com/assets/colab-badge.svg\" alt=\"Open In Colab\"/></a>"
      ]
    },
    {
      "cell_type": "code",
      "execution_count": 1,
      "metadata": {
        "colab": {
          "base_uri": "https://localhost:8080/",
          "height": 673
        },
        "id": "2wEfzQDmYBFK",
        "outputId": "057e93d9-6119-4e89-fd46-00ba3ff9e5a9"
      },
      "outputs": [
        {
          "output_type": "stream",
          "name": "stdout",
          "text": [
            "Random \n",
            "  RandomState(MT19937)\n",
            "error \n",
            " 1.4309671361712664\n",
            "weights \n",
            " [[ 2.45124639 -0.74565003 -0.74565003]\n",
            " [-2.30113839  2.68557784  2.68557784]\n",
            " [-2.12171932  1.36378573  1.36378573]\n",
            " [ 5.33424917  1.09058593  1.09058593]\n",
            " [ 2.43615106 -2.80886477 -2.80886477]\n",
            " [ 0.90860792 -3.56715635 -3.56715635]\n",
            " [-4.79485455 -2.77460532 -2.77460532]]\n",
            "[[1. 1.]]\n",
            "[ 2.68557784  1.36378573  1.09058593 -2.80886477 -3.56715635 -2.77460532]\n"
          ]
        },
        {
          "output_type": "display_data",
          "data": {
            "text/plain": [
              "<Figure size 640x480 with 1 Axes>"
            ],
            "image/png": "[encoded data removed]"
          },
          "metadata": {}
        }
      ],
      "source": [
        "import numpy as np\n",
        "import matplotlib.pyplot as plt\n",
        "from matplotlib.animation import FuncAnimation\n",
        "from IPython.display import display, Image\n",
        "\n",
        "\n",
        "def run_visible(data):\n",
        "    num_examples = data.shape[0]\n",
        "    hidden_states = np.ones((num_examples, num_hidden + 1))\n",
        "    data = np.insert(data, 0, 1, axis = 1)\n",
        "    hidden_activations = np.dot(data, weights)\n",
        "    hidden_probs = _logistic(hidden_activations)\n",
        "    hidden_states[:,:] = hidden_probs > np.random.rand(num_examples, num_hidden + 1)\n",
        "    hidden_states = hidden_states[:,1:]\n",
        "    return hidden_states\n",
        "\n",
        "def run_hidden(data):\n",
        "    num_examples = data.shape[0]\n",
        "    visible_states = np.ones((num_examples, num_visible + 1))\n",
        "    data = np.insert(data, 0, 1, axis = 1)\n",
        "    visible_activations = np.dot(data, weights.T)\n",
        "    visible_probs = _logistic(visible_activations)\n",
        "    visible_states[:,:] = visible_probs > np.random.rand(num_examples, num_visible + 1)\n",
        "    visible_states = visible_states[:,1:]\n",
        "    return visible_states\n",
        "\n",
        "def free_run(num_samples):\n",
        "    samples = np.ones((num_samples, num_visible + 1))\n",
        "    samples[0,1:] = np.random.rand(num_visible)\n",
        "    for i in range(1, num_samples):\n",
        "        visible = samples[i-1,:]\n",
        "        hidden_activations = np.dot(visible, weights)\n",
        "        hidden_probs = _logistic(hidden_activations)\n",
        "        hidden_states = hidden_probs > np.random.rand(num_hidden + 1)\n",
        "        hidden_states[0] = 1\n",
        "        visible_activations = np.dot(hidden_states, weights.T)\n",
        "        visible_probs = _logistic(visible_activations)\n",
        "        visible_states = visible_probs > np.random.rand(num_visible + 1)\n",
        "        samples[i,:] = visible_states\n",
        "    return samples[:,1:]\n",
        "\n",
        "def _logistic(x):\n",
        "    return 1.0 / (1 + np.exp(-x))\n",
        "\n",
        "\n",
        "num_hidden = 2\n",
        "num_visible = 6\n",
        "\n",
        "\n",
        "np_rng = np.random.RandomState(1234)\n",
        "print(\"Random \\n \",np_rng)\n",
        "\n",
        "\n",
        "data = np.array([[1,1,1,0,0,0],\n",
        "                 [1,0,1,0,0,0],\n",
        "                 [1,1,1,0,0,0],\n",
        "                 [0,0,1,1,1,0],\n",
        "                 [0,0,1,1,0,0],\n",
        "                 [0,0,1,1,1,0]])\n",
        "\n",
        "\n",
        "trec=(data).shape[0]\n",
        "val1=np.sqrt(trec / (num_hidden + num_visible))\n",
        "weights=np.asarray([[0.1,0.1],[0.1,0.1],[0.1,0.1],[0.1,0.1],[0.1,0.1],[0.1,0.1]])\n",
        "weights = np.insert(weights,0, 0, axis = 0)\n",
        "weights = np.insert(weights,0, 0, axis = 1)\n",
        "max_epochs = 5000\n",
        "learning_rate = 0.1\n",
        "num_examples = data.shape[0]\n",
        "data = np.insert(data, 0, 1, axis = 1)\n",
        "\n",
        "for epoch in range(max_epochs):\n",
        "    pos_hidden_activations = np.dot(data, weights)\n",
        "    pos_hidden_probs = _logistic(pos_hidden_activations)\n",
        "    pos_hidden_probs[:,0] = 1 # Fix the bias unit.\n",
        "    pos_associations = np.dot(data.T, pos_hidden_probs)\n",
        "    random_prob_states = np.random.rand(num_examples, num_hidden + 1)\n",
        "    pos_hidden_states = pos_hidden_probs > random_prob_states\n",
        "    neg_visible_activations = np.dot(pos_hidden_states, weights.T)\n",
        "    neg_visible_probs = _logistic(neg_visible_activations)\n",
        "    neg_visible_probs[:,0] = 1 # Fix the bias unit.\n",
        "    neg_hidden_activations = np.dot(neg_visible_probs, weights)\n",
        "    neg_hidden_probs = _logistic(neg_hidden_activations)\n",
        "    neg_associations = np.dot(neg_visible_probs.T, neg_hidden_probs)\n",
        "    delta_Associations = ((pos_associations - neg_associations) / num_examples)\n",
        "    weights += learning_rate * delta_Associations\n",
        "    error = np.sum((data - neg_visible_probs) ** 2)\n",
        "    #print(\"error \\n\",error)\n",
        "\n",
        "print(\"error \\n\",error)\n",
        "print(\"weights \\n\",weights)\n",
        "user = np.array([[0,1,1,0,0,0]])\n",
        "print(run_visible(user))\n",
        "\n",
        "import matplotlib.pyplot as plt\n",
        "import numpy as np\n",
        "\n",
        "xpoints = np.array(range(1, 7))\n",
        "ypoints = np.array(weights[1:,1])\n",
        "print(np.array(weights[1:,1]))\n",
        "\n",
        "plt.scatter(xpoints, ypoints, c =\"blue\")\n",
        "plt.show()"
      ]
    }
  ]
}