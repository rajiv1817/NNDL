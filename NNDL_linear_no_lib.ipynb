{
  "nbformat": 4,
  "nbformat_minor": 0,
  "metadata": {
    "colab": {
      "provenance": []
    },
    "kernelspec": {
      "name": "python3",
      "display_name": "Python 3"
    },
    "language_info": {
      "name": "python"
    }
  },
  "cells": [
    {
      "cell_type": "markdown",
      "source": [
        "LINEAR REGRESSION WITHOUT LIBRARY"
      ],
      "metadata": {
        "id": "Aq2KqCIaafTg"
      }
    },
    {
      "cell_type": "code",
      "execution_count": 1,
      "metadata": {
        "id": "tS0XQmQ6aJeb"
      },
      "outputs": [],
      "source": [
        "def linear_regression(x,y):\n",
        "  n = len(x)\n",
        "  x_sum = sum(x)\n",
        "  y_sum = sum(y)\n",
        "  xy_sum = sum([xi*yi for xi,yi in zip(x,y)])\n",
        "  x_squared_sum = sum([xi**2 for xi in x])\n",
        "\n",
        "  #Calculate b1(or slope) and b0(or intercept)\n",
        "  b1 = (n*xy_sum - x_sum*y_sum)/(n*x_squared_sum - x_sum**2)\n",
        "  b0 = (y_sum-b1*x_sum)/n\n",
        "\n",
        "  return b1, b0"
      ]
    },
    {
      "cell_type": "code",
      "source": [
        "x = [5,6,8,10]\n",
        "y = [11,11,15,24]\n",
        "\n",
        "b1, b0 = linear_regression(x,y)"
      ],
      "metadata": {
        "id": "uTEmixWzaS7P"
      },
      "execution_count": 2,
      "outputs": []
    },
    {
      "cell_type": "code",
      "source": [
        "print(\"Slope =\",b1)"
      ],
      "metadata": {
        "colab": {
          "base_uri": "https://localhost:8080/"
        },
        "id": "4o9CvyehaXAO",
        "outputId": "e1435221-d846-49fb-ef2b-d38bff9e2c88"
      },
      "execution_count": 5,
      "outputs": [
        {
          "output_type": "stream",
          "name": "stdout",
          "text": [
            "Slope = 2.6271186440677967\n"
          ]
        }
      ]
    },
    {
      "cell_type": "code",
      "source": [
        "print(\"Intercept =\",b0)"
      ],
      "metadata": {
        "colab": {
          "base_uri": "https://localhost:8080/"
        },
        "id": "59l4jAp7aXs-",
        "outputId": "9be1f3fa-b442-4d69-8457-2682edf2bff6"
      },
      "execution_count": 4,
      "outputs": [
        {
          "output_type": "stream",
          "name": "stdout",
          "text": [
            "Intercept = -3.796610169491526\n"
          ]
        }
      ]
    },
    {
      "cell_type": "code",
      "source": [],
      "metadata": {
        "id": "Vn4VUY9eabte"
      },
      "execution_count": null,
      "outputs": []
    }
  ]
}