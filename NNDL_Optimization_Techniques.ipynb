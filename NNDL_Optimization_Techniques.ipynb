{
  "nbformat": 4,
  "nbformat_minor": 0,
  "metadata": {
    "colab": {
      "provenance": [],
      "authorship_tag": "ABX9TyN3W4aUhprU8u+f2b/JHAM+",
      "include_colab_link": true
    },
    "kernelspec": {
      "name": "python3",
      "display_name": "Python 3"
    },
    "language_info": {
      "name": "python"
    }
  },
  "cells": [
    {
      "cell_type": "markdown",
      "metadata": {
        "id": "view-in-github",
        "colab_type": "text"
      },
      "source": [
        "<a href=\"https://colab.research.google.com/github/rajiv1817/NNDL/blob/main/NNDL_Optimization_Techniques.ipynb\" target=\"_parent\"><img src=\"https://colab.research.google.com/assets/colab-badge.svg\" alt=\"Open In Colab\"/></a>"
      ]
    },
    {
      "cell_type": "markdown",
      "source": [
        "Optimization Techniques"
      ],
      "metadata": {
        "id": "bRHnif9lGlAG"
      }
    },
    {
      "cell_type": "code",
      "execution_count": 1,
      "metadata": {
        "id": "_bv54YvcGgHU"
      },
      "outputs": [],
      "source": [
        "import numpy as np\n"
      ]
    },
    {
      "cell_type": "code",
      "source": [
        "def f(w,b,x): #sigmoid function\n",
        "    return 1.0/(1.0 +np.exp(-(w*x+b)))\n",
        "\n",
        "def error(w,b):\n",
        "    err = 0.0\n",
        "    for x,y in zip(X,Y):\n",
        "        fx = f(w,b,x)\n",
        "        err += 0.5 * (fx - y)**2\n",
        "    return err\n",
        "\n",
        "def grad_b(w,b,x,y):\n",
        "    fx = f(w,b,x)\n",
        "    return (fx - y) *fx * (1 - fx)\n",
        "\n",
        "def grad_w(w,b,x,y):\n",
        "    fx = f(w,b,x)\n",
        "    return (fx - y) *fx * (1 - fx) * x"
      ],
      "metadata": {
        "id": "I1m4nTNhGnrn"
      },
      "execution_count": 2,
      "outputs": []
    },
    {
      "cell_type": "code",
      "source": [
        "def do_gradient_descent():\n",
        "    w, b, eta = init_w, init_b, 1.0\n",
        "    params = []\n",
        "    for i in range(1, max_iter+1):\n",
        "        dw, db = 0, 0\n",
        "        for x,y in zip(X,Y):\n",
        "            dw += grad_w(w, b, x, y)\n",
        "            db += grad_b(w, b, x, y)\n",
        "        params.append((w, b, error(w,b)))\n",
        "        w = w - eta * dw\n",
        "        b = b - eta * db\n",
        "    p = params[-1]\n",
        "    print(f'w = {p[0]:f}, b = {p[1]:f}, e = {p[2]:f}')\n",
        "\n",
        "\n",
        "def do_stochastic_gradient_descent():\n",
        "    w, b, eta = init_w, init_b, 1.0\n",
        "    params = []\n",
        "    batch_size = 1\n",
        "    for i in range(1, max_iter+1):\n",
        "        indexes = np.random.randint(0, len(X), batch_size) # random sample\n",
        "        Xs = np.take(X, indexes)\n",
        "        Ys = np.take(Y, indexes)\n",
        "        dw, db = 0, 0\n",
        "        for x,y in zip(Xs,Ys):\n",
        "            dw += grad_w(w, b, x, y)\n",
        "            db += grad_b(w, b, x, y)\n",
        "            params.append((w, b, error(w,b)))\n",
        "            w = w - eta * dw\n",
        "            b = b - eta * db\n",
        "    p = params[-1]\n",
        "    print(f'w = {p[0]:f}, b = {p[1]:f}, e = {p[2]:f}')\n",
        "\n",
        "\n",
        "def do_mini_batch_gradient_descent():\n",
        "    w, b, eta = init_w, init_b, 1.0\n",
        "    params = []\n",
        "    batch_size = 2\n",
        "    for i in range(1, max_iter+1):\n",
        "        indexes = np.random.randint(0, len(X), batch_size) # random sample\n",
        "        Xs = np.take(X, indexes)\n",
        "        Ys = np.take(Y, indexes)\n",
        "        dw, db = 0, 0\n",
        "        for x,y in zip(Xs,Ys):\n",
        "            dw += grad_w(w, b, x, y)\n",
        "            db += grad_b(w, b, x, y)\n",
        "            params.append((w, b, error(w,b)))\n",
        "            w = w - eta * dw\n",
        "            b = b - eta * db\n",
        "    p = params[-1]\n",
        "    print(f'w = {p[0]:f}, b = {p[1]:f}, e = {p[2]:f}')\n",
        "\n",
        "\n",
        "def do_momentum_gradient_descent():\n",
        "    w, b, eta = init_w, init_b, 1.0\n",
        "    v_w, v_b, prev_v_w, prev_v_b, gamma = 0, 0, 0, 0, 0.8\n",
        "    params = []\n",
        "    for i in range(1, max_iter+1):\n",
        "        dw, db = 0, 0\n",
        "        for x,y in zip(X,Y):\n",
        "            dw += grad_w(w, b, x, y)\n",
        "            db += grad_b(w, b, x, y)\n",
        "        v_w = gamma * prev_v_w + eta*dw\n",
        "        v_b = gamma * prev_v_b + eta*db\n",
        "        w = w - gamma * prev_v_w + eta*dw\n",
        "        b = b - gamma * prev_v_b + eta*db\n",
        "        params.append((w, b, error(w,b)))\n",
        "        prev_v_w = v_w\n",
        "        prev_v_b = v_b\n",
        "    p = params[-1]\n",
        "    print(f'w = {p[0]:f}, b = {p[1]:f}, e = {p[2]:f}')\n",
        "\n",
        "\n",
        "def do_nesterov_accelerated_gradient_descent():\n",
        "    w, b, eta = init_w, init_b, 1.0\n",
        "    prev_v_w, prev_v_b, gamma = 0, 0, 0.8\n",
        "    params = []\n",
        "    for i in range(1, max_iter+1):\n",
        "        dw, db = 0, 0\n",
        "        # do partial update\n",
        "        v_w = gamma * prev_v_w\n",
        "        v_b = gamma * prev_v_b\n",
        "        for x,y in zip(X,Y):\n",
        "          # calculate gradients after partial update\n",
        "            dw += grad_w(w - v_w, b - v_b, x, y)\n",
        "            db += grad_b(w - v_w, b - v_b, x, y)\n",
        "        # now do the full update\n",
        "        v_w = gamma * prev_v_w + eta*dw\n",
        "        v_b = gamma * prev_v_b + eta*db\n",
        "        w = w - v_w\n",
        "        b = b - v_b\n",
        "        prev_v_w = v_w\n",
        "        prev_v_b = v_b\n",
        "        er = error(w, b)\n",
        "        params.append((w, b, er))\n",
        "    p = params[-1]\n",
        "    print(f'w = {p[0]:f}, b = {p[1]:f}, e = {p[2]:f}')\n",
        "\n",
        "\n",
        "def do_adagrad():\n",
        "    w, b, eta = init_w, init_b, 0.1\n",
        "    v_w, v_b, eps = 0, 0, 1e-8\n",
        "    params = []\n",
        "    for i in range(1, max_iter+1):\n",
        "        dw, db = 0, 0\n",
        "        for x,y in zip(X,Y):\n",
        "            dw += grad_w(w, b, x, y)\n",
        "            db += grad_b(w, b, x, y)\n",
        "\n",
        "        v_w = v_w + dw**2\n",
        "        v_b = v_b + db**2\n",
        "        w = w - (eta/np.sqrt(v_w + eps)) * dw\n",
        "        b = b - (eta/np.sqrt(v_b + eps)) * db\n",
        "        er = error(w, b)\n",
        "        params.append((w, b, er))\n",
        "    p = params[-1]\n",
        "    print(f'w = {p[0]:f}, b = {p[1]:f}, e = {p[2]:f}')\n",
        "\n",
        "\n",
        "def do_rmsprop():\n",
        "    w, b, eta = init_w, init_b, 0.1\n",
        "    v_w, v_b, beta, eps = 0, 0, 0.9, 1e-8\n",
        "    params = []\n",
        "    for i in range(1, max_iter+1):\n",
        "        dw, db = 0, 0\n",
        "        for x,y in zip(X,Y):\n",
        "            dw += grad_w(w, b, x, y)\n",
        "            db += grad_b(w, b, x, y)\n",
        "\n",
        "        v_w = beta * v_w + (1 - beta) * dw**2\n",
        "        v_b = beta * v_b + (1 - beta) * db**2\n",
        "\n",
        "        w = w - (eta/np.sqrt(v_w + eps)) * dw\n",
        "        b = b - (eta/np.sqrt(v_b + eps)) * db\n",
        "        er = error(w, b)\n",
        "        params.append((w, b, er))\n",
        "    p = params[-1]\n",
        "    print(f'w = {p[0]:f}, b = {p[1]:f}, e = {p[2]:f}')\n",
        "\n",
        "\n",
        "def do_adam():\n",
        "    w, b, eta, max_epochs = 1, 1, 0.01, 100,\n",
        "    m_w, m_b, v_w, v_b, eps, beta1, beta2 = 0, 0, 0, 0, 1e-8, 0.9, 0.99\n",
        "    params = []\n",
        "    for i in range(1, max_iter+1):\n",
        "        dw, db = 0, 0\n",
        "        for x,y in zip(X,Y):\n",
        "            dw += grad_w(w, b, x, y)\n",
        "            db += grad_b(w, b, x, y)\n",
        "            m_w = beta1 * m_w + (1-beta1) * dw\n",
        "            m_b = beta1 * m_b + (1-beta1) * db\n",
        "            v_w = beta2 * v_w + (1-beta2) * dw**2\n",
        "            v_b = beta2 * v_b + (1-beta2) * db**2\n",
        "            m_w = m_w/(1-beta1**(i+1))\n",
        "            m_b = m_b/(1-beta1**(i+1))\n",
        "            v_w = v_w/(1-beta2**(i+1))\n",
        "            v_b = v_b/(1-beta2**(i+1))\n",
        "            w = w - eta * m_w/np.sqrt(v_w + eps)\n",
        "            b = b - eta * m_b/np.sqrt(v_b + eps)\n",
        "            er = error(w, b)\n",
        "            params.append((w, b, er))\n",
        "    p = params[-1]\n",
        "    print(f'w = {p[0]:f}, b = {p[1]:f}, e = {p[2]:f}')"
      ],
      "metadata": {
        "id": "F2U-H07YGp_m"
      },
      "execution_count": 3,
      "outputs": []
    },
    {
      "cell_type": "code",
      "source": [
        "X = np.array([2.5, 1.8])\n",
        "Y = np.array([0.9, 0.5])\n",
        "\n",
        "eta = 1\n",
        "init_w = -2\n",
        "init_b = 2\n",
        "max_iter = 100"
      ],
      "metadata": {
        "id": "vx2-Y3imGysm"
      },
      "execution_count": 4,
      "outputs": []
    },
    {
      "cell_type": "code",
      "source": [
        "do_stochastic_gradient_descent()\n"
      ],
      "metadata": {
        "colab": {
          "base_uri": "https://localhost:8080/"
        },
        "id": "NK1VjLkVG0pV",
        "outputId": "8fc0b992-a4f5-4e87-a960-9659d0b3e10e"
      },
      "execution_count": 5,
      "outputs": [
        {
          "output_type": "stream",
          "name": "stdout",
          "text": [
            "w = -0.472226, b = 2.031714, e = 0.055019\n"
          ]
        }
      ]
    },
    {
      "cell_type": "code",
      "source": [
        "do_mini_batch_gradient_descent()\n"
      ],
      "metadata": {
        "colab": {
          "base_uri": "https://localhost:8080/"
        },
        "id": "yQHUSV3_G2YF",
        "outputId": "e27b6d85-6027-4db9-8da8-9d982a2472f0"
      },
      "execution_count": 6,
      "outputs": [
        {
          "output_type": "stream",
          "name": "stdout",
          "text": [
            "w = 0.083726, b = 1.170387, e = 0.046972\n"
          ]
        }
      ]
    },
    {
      "cell_type": "code",
      "source": [
        "do_momentum_gradient_descent()\n"
      ],
      "metadata": {
        "colab": {
          "base_uri": "https://localhost:8080/"
        },
        "id": "0109TQbTG4cG",
        "outputId": "36bbba05-836c-4f3b-e76c-32102098bc62"
      },
      "execution_count": 7,
      "outputs": [
        {
          "output_type": "stream",
          "name": "stdout",
          "text": [
            "w = 3.252622, b = 4.284385, e = 0.129980\n"
          ]
        }
      ]
    },
    {
      "cell_type": "code",
      "source": [
        "do_nesterov_accelerated_gradient_descent()\n"
      ],
      "metadata": {
        "colab": {
          "base_uri": "https://localhost:8080/"
        },
        "id": "h121WgZDG6Bm",
        "outputId": "763dfb39-d270-4e5f-d562-8ba0a66c21fb"
      },
      "execution_count": 8,
      "outputs": [
        {
          "output_type": "stream",
          "name": "stdout",
          "text": [
            "w = 1.169024, b = -1.649317, e = 0.013296\n"
          ]
        }
      ]
    },
    {
      "cell_type": "code",
      "source": [
        "do_adagrad()\n"
      ],
      "metadata": {
        "colab": {
          "base_uri": "https://localhost:8080/"
        },
        "id": "0Ef5qJWAHKMn",
        "outputId": "ec879f18-9f3f-4603-f978-0902e86e8b3c"
      },
      "execution_count": 9,
      "outputs": [
        {
          "output_type": "stream",
          "name": "stdout",
          "text": [
            "w = -0.830849, b = 2.945572, e = 0.067177\n"
          ]
        }
      ]
    },
    {
      "cell_type": "code",
      "source": [
        "do_rmsprop()\n"
      ],
      "metadata": {
        "colab": {
          "base_uri": "https://localhost:8080/"
        },
        "id": "ENNiKuKGHLuX",
        "outputId": "69eccc08-f649-41da-a059-59fd1b9705fe"
      },
      "execution_count": 10,
      "outputs": [
        {
          "output_type": "stream",
          "name": "stdout",
          "text": [
            "w = 1.387022, b = -2.247345, e = 0.010101\n"
          ]
        }
      ]
    },
    {
      "cell_type": "code",
      "source": [
        "do_adam()\n"
      ],
      "metadata": {
        "colab": {
          "base_uri": "https://localhost:8080/"
        },
        "id": "HCC53NdvHNL3",
        "outputId": "b124a9f2-b8ec-458b-ed2b-2e4d76c1ef71"
      },
      "execution_count": 11,
      "outputs": [
        {
          "output_type": "stream",
          "name": "stdout",
          "text": [
            "w = 0.971993, b = 0.972098, e = 0.098347\n"
          ]
        }
      ]
    },
    {
      "cell_type": "code",
      "source": [],
      "metadata": {
        "id": "801oG07YHPC3"
      },
      "execution_count": null,
      "outputs": []
    }
  ]
}