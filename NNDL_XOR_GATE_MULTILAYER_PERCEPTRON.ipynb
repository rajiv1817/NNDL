{
  "nbformat": 4,
  "nbformat_minor": 0,
  "metadata": {
    "colab": {
      "provenance": [],
      "authorship_tag": "ABX9TyM5JvR2XOR7VR1zqCPqBFWL",
      "include_colab_link": true
    },
    "kernelspec": {
      "name": "python3",
      "display_name": "Python 3"
    },
    "language_info": {
      "name": "python"
    }
  },
  "cells": [
    {
      "cell_type": "markdown",
      "metadata": {
        "id": "view-in-github",
        "colab_type": "text"
      },
      "source": [
        "<a href=\"https://colab.research.google.com/github/rajiv1817/NNDL/blob/main/NNDL_XOR_GATE_MULTILAYER_PERCEPTRON.ipynb\" target=\"_parent\"><img src=\"https://colab.research.google.com/assets/colab-badge.svg\" alt=\"Open In Colab\"/></a>"
      ]
    },
    {
      "cell_type": "markdown",
      "source": [
        "1.importing the nessary library"
      ],
      "metadata": {
        "id": "CbmdkOXxy2xL"
      }
    },
    {
      "cell_type": "code",
      "execution_count": 12,
      "metadata": {
        "id": "U1fPDABExfMD"
      },
      "outputs": [],
      "source": [
        "import numpy as np\n",
        "import matplotlib.pyplot as plt\n",
        "import sys"
      ]
    },
    {
      "cell_type": "markdown",
      "source": [
        "2.define vector values in input and output"
      ],
      "metadata": {
        "id": "3zDarWIZy_KS"
      }
    },
    {
      "cell_type": "code",
      "source": [
        "# The training data.\n",
        "X = np.array([\n",
        "[0, 0],\n",
        "[0, 1],\n",
        "[1, 0],\n",
        "[1, 1]\n",
        "])\n",
        "# The labels for the training data.\n",
        "y = np.array([\n",
        "[0],\n",
        "[1],\n",
        "[1],\n",
        "[0]\n",
        "])\n"
      ],
      "metadata": {
        "id": "G0uBHunBxxc0"
      },
      "execution_count": 13,
      "outputs": []
    },
    {
      "cell_type": "markdown",
      "source": [
        "3.Define weights of the variable"
      ],
      "metadata": {
        "id": "16JwZoShzKbS"
      }
    },
    {
      "cell_type": "code",
      "source": [
        "W11 = np.asarray([1,1])\n",
        "W12 = np.asarray([1,1])\n",
        "W2 = np.asarray([-1,1])\n",
        "B1 = np.asarray([-1.5,-0.5])\n",
        "B2 = np.asarray([-0.5])"
      ],
      "metadata": {
        "id": "j-_iiRj1x_46"
      },
      "execution_count": 14,
      "outputs": []
    },
    {
      "cell_type": "code",
      "source": [
        "W11"
      ],
      "metadata": {
        "colab": {
          "base_uri": "https://localhost:8080/"
        },
        "id": "mvND1lJOyY3q",
        "outputId": "a59b2552-45d9-4df1-e6a0-87037303b9d7"
      },
      "execution_count": 15,
      "outputs": [
        {
          "output_type": "execute_result",
          "data": {
            "text/plain": [
              "array([1, 1])"
            ]
          },
          "metadata": {},
          "execution_count": 15
        }
      ]
    },
    {
      "cell_type": "code",
      "source": [
        "W12"
      ],
      "metadata": {
        "colab": {
          "base_uri": "https://localhost:8080/"
        },
        "id": "WBdwsVzpydFa",
        "outputId": "6e8c2eb5-e20c-49ea-a5ab-1e04886cc258"
      },
      "execution_count": 16,
      "outputs": [
        {
          "output_type": "execute_result",
          "data": {
            "text/plain": [
              "array([1, 1])"
            ]
          },
          "metadata": {},
          "execution_count": 16
        }
      ]
    },
    {
      "cell_type": "code",
      "source": [
        "B2"
      ],
      "metadata": {
        "colab": {
          "base_uri": "https://localhost:8080/"
        },
        "id": "DNjSlmi6za9K",
        "outputId": "7dcacd84-73a9-4e81-8be6-e5fb2fb3f13e"
      },
      "execution_count": 18,
      "outputs": [
        {
          "output_type": "execute_result",
          "data": {
            "text/plain": [
              "array([-0.5])"
            ]
          },
          "metadata": {},
          "execution_count": 18
        }
      ]
    },
    {
      "cell_type": "code",
      "source": [
        "W2"
      ],
      "metadata": {
        "colab": {
          "base_uri": "https://localhost:8080/"
        },
        "id": "k9eix6Rezfzq",
        "outputId": "4445b62e-74b2-4e56-f05d-5543dd9f3b63"
      },
      "execution_count": 19,
      "outputs": [
        {
          "output_type": "execute_result",
          "data": {
            "text/plain": [
              "array([-1,  1])"
            ]
          },
          "metadata": {},
          "execution_count": 19
        }
      ]
    },
    {
      "cell_type": "code",
      "source": [
        "\n",
        "B1"
      ],
      "metadata": {
        "colab": {
          "base_uri": "https://localhost:8080/"
        },
        "id": "F5aP9GzFzoja",
        "outputId": "ec835831-ac08-429c-bde0-abf6aff0092e"
      },
      "execution_count": 20,
      "outputs": [
        {
          "output_type": "execute_result",
          "data": {
            "text/plain": [
              "array([-1.5, -0.5])"
            ]
          },
          "metadata": {},
          "execution_count": 20
        }
      ]
    },
    {
      "cell_type": "code",
      "source": [
        "x=X[0]\n",
        "print(x)"
      ],
      "metadata": {
        "colab": {
          "base_uri": "https://localhost:8080/"
        },
        "id": "_EuRXsz3zpO6",
        "outputId": "201e082c-b785-47e8-8338-7fd0f3aac375"
      },
      "execution_count": 21,
      "outputs": [
        {
          "output_type": "stream",
          "name": "stdout",
          "text": [
            "[0 0]\n"
          ]
        }
      ]
    },
    {
      "cell_type": "code",
      "source": [
        "len(W11)\n"
      ],
      "metadata": {
        "colab": {
          "base_uri": "https://localhost:8080/"
        },
        "id": "h2MZ3EuozrIb",
        "outputId": "70b93bfb-e5f3-4034-e0f4-25faa2298223"
      },
      "execution_count": 22,
      "outputs": [
        {
          "output_type": "execute_result",
          "data": {
            "text/plain": [
              "2"
            ]
          },
          "metadata": {},
          "execution_count": 22
        }
      ]
    },
    {
      "cell_type": "code",
      "source": [
        "def summation(x,Wt1,Wt2,Bs):\n",
        "  sumh =[0,0]\n",
        "  for i in range(len(x)):\n",
        "    sumh [i]=(x[0]*Wt1[i]+x[1]*Wt2[i])+Bs[i]\n",
        "  return sumh"
      ],
      "metadata": {
        "id": "GOYl9elFztf6"
      },
      "execution_count": 27,
      "outputs": []
    },
    {
      "cell_type": "code",
      "source": [
        "sumv=summation(x,W11,W12,B1)\n"
      ],
      "metadata": {
        "id": "QFAxNYEtzvjL"
      },
      "execution_count": 28,
      "outputs": []
    },
    {
      "cell_type": "code",
      "source": [
        "print(sumv)\n"
      ],
      "metadata": {
        "colab": {
          "base_uri": "https://localhost:8080/"
        },
        "id": "mBUOgCDc0KMQ",
        "outputId": "b2d78498-60a8-401f-cd1b-f8137934d3c0"
      },
      "execution_count": 29,
      "outputs": [
        {
          "output_type": "stream",
          "name": "stdout",
          "text": [
            "[-1.5, -0.5]\n"
          ]
        }
      ]
    },
    {
      "cell_type": "code",
      "source": [
        "def Heaviside (net):\n",
        "  if net >= 0:\n",
        "    return 1\n",
        "  else:\n",
        "    return 0"
      ],
      "metadata": {
        "id": "3RpJxP0_0L1K"
      },
      "execution_count": 30,
      "outputs": []
    },
    {
      "cell_type": "code",
      "source": [
        "hidden=[0,0]\n",
        "for i in range(len(sumv)):\n",
        "  hidden[i]=Heaviside(sumv[i])"
      ],
      "metadata": {
        "id": "jsnxp8Wy0RxK"
      },
      "execution_count": 31,
      "outputs": []
    },
    {
      "cell_type": "code",
      "source": [
        "print(hidden)"
      ],
      "metadata": {
        "colab": {
          "base_uri": "https://localhost:8080/"
        },
        "id": "CC_PlqQe0V67",
        "outputId": "132133f4-0a2a-44f4-c9c5-9e41e2a66d4d"
      },
      "execution_count": 32,
      "outputs": [
        {
          "output_type": "stream",
          "name": "stdout",
          "text": [
            "[0, 0]\n"
          ]
        }
      ]
    },
    {
      "cell_type": "code",
      "source": [
        "sumo=np.dot(hidden,W2)+B2[0]\n",
        "y_pred=Heaviside(sumo)"
      ],
      "metadata": {
        "id": "4Z1Kt3bd0YO6"
      },
      "execution_count": 33,
      "outputs": []
    },
    {
      "cell_type": "code",
      "source": [
        "print(y_pred)"
      ],
      "metadata": {
        "colab": {
          "base_uri": "https://localhost:8080/"
        },
        "id": "P2nzg4z30aDT",
        "outputId": "6482cc1c-9069-4320-c2c1-5fe9e7f12e8e"
      },
      "execution_count": 34,
      "outputs": [
        {
          "output_type": "stream",
          "name": "stdout",
          "text": [
            "0\n"
          ]
        }
      ]
    },
    {
      "cell_type": "code",
      "source": [
        "y_pred=[]\n",
        "for i in range(X.shape[0]):\n",
        "  x=X[i]\n",
        "sumv=summation(x,W11,W12,B1)\n",
        "hidden=[0,0]\n",
        "for i in range(len(sumv)):\n",
        "  hidden[i]=Heaviside(sumv[i])\n",
        "  sumo=np.dot(hidden,W2)+B2[0]\n",
        "  y_pred.append(Heaviside(sumo))"
      ],
      "metadata": {
        "id": "Czy-pNmZ0brr"
      },
      "execution_count": 38,
      "outputs": []
    },
    {
      "cell_type": "code",
      "source": [
        " y_pred"
      ],
      "metadata": {
        "colab": {
          "base_uri": "https://localhost:8080/"
        },
        "id": "APC2NVcD0dG7",
        "outputId": "70c316aa-e579-4ce2-a6ec-8c7e8c0f4773"
      },
      "execution_count": 39,
      "outputs": [
        {
          "output_type": "execute_result",
          "data": {
            "text/plain": [
              "[0, 0]"
            ]
          },
          "metadata": {},
          "execution_count": 39
        }
      ]
    },
    {
      "cell_type": "code",
      "source": [],
      "metadata": {
        "id": "5yc-Gpo60o8q"
      },
      "execution_count": null,
      "outputs": []
    }
  ]
}