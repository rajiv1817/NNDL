{
  "nbformat": 4,
  "nbformat_minor": 0,
  "metadata": {
    "colab": {
      "provenance": [],
      "authorship_tag": "ABX9TyOiiSM8gJBWyQOPZxTZVAoc",
      "include_colab_link": true
    },
    "kernelspec": {
      "name": "python3",
      "display_name": "Python 3"
    },
    "language_info": {
      "name": "python"
    }
  },
  "cells": [
    {
      "cell_type": "markdown",
      "metadata": {
        "id": "view-in-github",
        "colab_type": "text"
      },
      "source": [
        "<a href=\"https://colab.research.google.com/github/rajiv1817/NNDL/blob/main/NNDL_OR_GATE.ipynb\" target=\"_parent\"><img src=\"https://colab.research.google.com/assets/colab-badge.svg\" alt=\"Open In Colab\"/></a>"
      ]
    },
    {
      "cell_type": "markdown",
      "source": [
        "NNDL OR GATE SIMPLE PERCEPTRON"
      ],
      "metadata": {
        "id": "MH36drYMl6HE"
      }
    },
    {
      "cell_type": "code",
      "execution_count": 1,
      "metadata": {
        "id": "dIKdlMGUj028"
      },
      "outputs": [],
      "source": [
        "# Importing library\n",
        "import numpy as np"
      ]
    },
    {
      "cell_type": "code",
      "source": [
        "#Initializing variables for OR Gate\n",
        "X = np.asarray([[0,0],[0,1],[1,0],[1,1]])\n",
        "W = np.asarray([1,1])\n",
        "Wsum_Arr = np.dot(X,W)\n",
        "Theta = 1\n",
        "\n",
        "y_pred = np.asarray([0,0,0,0])\n",
        ""
      ],
      "metadata": {
        "id": "w3929w1Glrm3"
      },
      "execution_count": 2,
      "outputs": []
    },
    {
      "cell_type": "code",
      "source": [
        "# STEP Function\n",
        "def step(NW):\n",
        "  if (NW>=Theta):\n",
        "    return 1\n",
        "  else:\n",
        "    return 0\n",
        ""
      ],
      "metadata": {
        "id": "EqFMmclflvOj"
      },
      "execution_count": 5,
      "outputs": []
    },
    {
      "cell_type": "code",
      "source": [
        "for i in range(X.shape[0]):\n",
        "  x = X[i]\n",
        "  Wsum_Arr = np.dot(x,W)\n",
        "  y_pred[i] = step(Wsum_Arr)\n",
        "\n",
        "print(y_pred) #Expected Output: [0,1,1,1]"
      ],
      "metadata": {
        "colab": {
          "base_uri": "https://localhost:8080/"
        },
        "id": "yzsxxGbjlwCZ",
        "outputId": "cc5a9988-fb5a-4b94-f685-9d0bbd7654e3"
      },
      "execution_count": 9,
      "outputs": [
        {
          "output_type": "stream",
          "name": "stdout",
          "text": [
            "[0 1 1 1]\n"
          ]
        }
      ]
    },
    {
      "cell_type": "code",
      "source": [],
      "metadata": {
        "id": "S6pCHkdJoDiD"
      },
      "execution_count": null,
      "outputs": []
    }
  ]
}