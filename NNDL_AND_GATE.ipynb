{
  "nbformat": 4,
  "nbformat_minor": 0,
  "metadata": {
    "colab": {
      "provenance": [],
      "authorship_tag": "ABX9TyPEI0uFhi0hoWAx66Y99uDx",
      "include_colab_link": true
    },
    "kernelspec": {
      "name": "python3",
      "display_name": "Python 3"
    },
    "language_info": {
      "name": "python"
    }
  },
  "cells": [
    {
      "cell_type": "markdown",
      "metadata": {
        "id": "view-in-github",
        "colab_type": "text"
      },
      "source": [
        "<a href=\"https://colab.research.google.com/github/rajiv1817/NNDL/blob/main/NNDL_AND_GATE.ipynb\" target=\"_parent\"><img src=\"https://colab.research.google.com/assets/colab-badge.svg\" alt=\"Open In Colab\"/></a>"
      ]
    },
    {
      "cell_type": "markdown",
      "source": [
        "NNDL AND GATE SIMPLE PERCEPTRON"
      ],
      "metadata": {
        "id": "MHO6cdSEmsf7"
      }
    },
    {
      "cell_type": "code",
      "source": [
        "# Importing library\n",
        "import numpy as np"
      ],
      "metadata": {
        "id": "zEwNpoZ4mWw0"
      },
      "execution_count": null,
      "outputs": []
    },
    {
      "cell_type": "code",
      "source": [
        "#Initializing variables for AND Gate\n",
        "X = np.asarray([[0,0],[0,1],[1,0],[1,1]])\n",
        "W = np.asarray([1,1])\n",
        "Wsum_Arr = np.dot(X,W)\n",
        "y_pred = np.asarray([0,0,0,0])"
      ],
      "metadata": {
        "id": "8gk-XtaZmb_S"
      },
      "execution_count": null,
      "outputs": []
    },
    {
      "cell_type": "code",
      "source": [
        "# STEP Function\n",
        "def step(NW):\n",
        "  if (NW>=1.5):\n",
        "    return 1\n",
        "  else:\n",
        "    return 0"
      ],
      "metadata": {
        "id": "DZgNG8UqmeYD"
      },
      "execution_count": null,
      "outputs": []
    },
    {
      "cell_type": "code",
      "source": [
        "for i in range(X.shape[0]):\n",
        "  x = X[i]\n",
        "  Wsum_Arr = np.dot(x,W)\n",
        "  y_pred[i] = step(Wsum_Arr)\n",
        "print(y_pred) #Expected Output: [0,0,0,1]"
      ],
      "metadata": {
        "colab": {
          "base_uri": "https://localhost:8080/"
        },
        "id": "_lUY1AgemgPD",
        "outputId": "60848fba-5db7-4c47-f668-1895fcf16a24"
      },
      "execution_count": null,
      "outputs": [
        {
          "output_type": "stream",
          "name": "stdout",
          "text": [
            "[0 0 0 1]\n"
          ]
        }
      ]
    },
    {
      "cell_type": "code",
      "source": [],
      "metadata": {
        "id": "WkgvEREEmiXD"
      },
      "execution_count": null,
      "outputs": []
    }
  ]
}