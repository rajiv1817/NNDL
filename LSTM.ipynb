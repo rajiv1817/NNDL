{
  "nbformat": 4,
  "nbformat_minor": 0,
  "metadata": {
    "colab": {
      "provenance": [],
      "authorship_tag": "ABX9TyN3fOoUs5+qhZ0AFpWvL5ma",
      "include_colab_link": true
    },
    "kernelspec": {
      "name": "python3",
      "display_name": "Python 3"
    },
    "language_info": {
      "name": "python"
    }
  },
  "cells": [
    {
      "cell_type": "markdown",
      "metadata": {
        "id": "view-in-github",
        "colab_type": "text"
      },
      "source": [
        "<a href=\"https://colab.research.google.com/github/rajiv1817/NNDL/blob/main/LSTM.ipynb\" target=\"_parent\"><img src=\"https://colab.research.google.com/assets/colab-badge.svg\" alt=\"Open In Colab\"/></a>"
      ]
    },
    {
      "cell_type": "code",
      "execution_count": 1,
      "metadata": {
        "id": "F_sCjS1nre0t",
        "outputId": "28b83ff1-3405-43ae-d829-aa3a5f049ea1",
        "colab": {
          "base_uri": "https://localhost:8080/"
        }
      },
      "outputs": [
        {
          "output_type": "stream",
          "name": "stdout",
          "text": [
            "Hidden state (h_t): [[-0.08832736]\n",
            " [ 0.77440659]\n",
            " [-0.75601438]\n",
            " [ 0.45055962]\n",
            " [-0.14773583]\n",
            " [-0.41407623]\n",
            " [-0.01791394]\n",
            " [ 0.02952621]]\n",
            "Cell state (c_t): [[-0.6056157 ]\n",
            " [ 1.03406596]\n",
            " [-0.99594163]\n",
            " [ 0.4982521 ]\n",
            " [-1.00912782]\n",
            " [-0.47100482]\n",
            " [-0.05921113]\n",
            " [ 0.84159091]]\n"
          ]
        }
      ],
      "source": [
        "import numpy as np\n",
        "\n",
        "class LSTM:\n",
        "    def __init__(self, input_size, hidden_size):\n",
        "        self.input_size = input_size\n",
        "        self.hidden_size = hidden_size\n",
        "\n",
        "        # Initialize shared weight for all gates\n",
        "        self.Wi = np.random.randn(hidden_size, input_size + hidden_size)\n",
        "        self.bi = np.zeros((hidden_size, 1))\n",
        "\n",
        "        self.Wf = np.random.randn(hidden_size, input_size + hidden_size)\n",
        "        self.bf = np.zeros((hidden_size, 1))\n",
        "\n",
        "        self.Wc = np.random.randn(hidden_size, input_size + hidden_size)\n",
        "        self.bc = np.zeros((hidden_size, 1))\n",
        "\n",
        "        self.Wo = np.random.randn(hidden_size, input_size + hidden_size)\n",
        "        self.bo = np.zeros((hidden_size, 1))\n",
        "\n",
        "    def forward(self, x_t, h_prev, c_prev):\n",
        "        # Concatenate input and previous hidden state\n",
        "        concat_input = np.concatenate((x_t, h_prev), axis=0)\n",
        "        # print(concat_input.shape)\n",
        "\n",
        "        # Compute combined linear transformation\n",
        "        zi = np.dot(self.Wi, concat_input) + self.bi\n",
        "        zf = np.dot(self.Wf, concat_input) + self.bf\n",
        "        zc = np.dot(self.Wc, concat_input) + self.bc\n",
        "        zo = np.dot(self.Wo, concat_input) + self.bo\n",
        "\n",
        "        # # Split into gates\n",
        "        # i_t, f_t, g_t, o_t = np.split(np.concatenate((zi, zf, zc, zo), axis=0), 4)\n",
        "\n",
        "        # Apply activation functions\n",
        "        i_t = sigmoid(zi)\n",
        "        f_t = sigmoid(zf)\n",
        "        g_t = np.tanh(zc)\n",
        "        o_t = sigmoid(zo)\n",
        "\n",
        "        # Update cell state\n",
        "        c_t = f_t * c_prev + i_t * g_t\n",
        "\n",
        "        # Compute hidden state\n",
        "        h_t = o_t * np.tanh(c_t)\n",
        "\n",
        "        return h_t, c_t\n",
        "\n",
        "def sigmoid(x):\n",
        "    return 1 / (1 + np.exp(-x))\n",
        "\n",
        "# Example usage\n",
        "input_size = 10\n",
        "hidden_size = 8\n",
        "simple_lstm_cell = LSTM(input_size, hidden_size)\n",
        "\n",
        "# Generate random input and initial hidden state\n",
        "x_t = np.random.randn(input_size, 1)\n",
        "h_prev = np.random.randn(hidden_size, 1)\n",
        "c_prev = np.random.randn(hidden_size, 1)\n",
        "\n",
        "# Forward pass through simple LSTM cell\n",
        "h_t, c_t = simple_lstm_cell.forward(x_t, h_prev, c_prev)\n",
        "\n",
        "print(\"Hidden state (h_t):\", h_t)\n",
        "print(\"Cell state (c_t):\", c_t)\n"
      ]
    },
    {
      "cell_type": "code",
      "source": [],
      "metadata": {
        "id": "G2M4GL-trguN"
      },
      "execution_count": null,
      "outputs": []
    }
  ]
}